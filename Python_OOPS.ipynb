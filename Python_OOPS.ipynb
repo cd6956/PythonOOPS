{
  "nbformat": 4,
  "nbformat_minor": 0,
  "metadata": {
    "colab": {
      "provenance": [],
      "collapsed_sections": [
        "5srDhT4yVwZ4",
        "ATdu37CvWsMt",
        "e_osMO9BaZuz",
        "_coJIAD1b43Y",
        "Yc7cVNzOcEtV",
        "fq3KIr0SezWX",
        "qTH5qntdgNGo",
        "JSetERQwhVtD",
        "7RuKBx-xjTt2",
        "Awe6Baarjdpq",
        "HqaOBisPoYCg",
        "XrlfOH3apTW_",
        "-LzCgLmwr6ox",
        "o6PSEIJds3PQ",
        "Z6aAqbzY59Ka",
        "L_tmz9DW68Y7",
        "3GMa4-_Q8IN6",
        "7ob6ACK-9OHd"
      ]
    },
    "kernelspec": {
      "name": "python3",
      "display_name": "Python 3"
    },
    "language_info": {
      "name": "python"
    }
  },
  "cells": [
    {
      "cell_type": "markdown",
      "source": [
        "# Python OOPs"
      ],
      "metadata": {
        "id": "IVjuIUS-l8f8"
      }
    },
    {
      "cell_type": "markdown",
      "source": [
        "# Q1. What is Object-Oriented Programming (OOP)?"
      ],
      "metadata": {
        "id": "tCVOooYhl_Du"
      }
    },
    {
      "cell_type": "markdown",
      "source": [
        "-> Object-Oriented Programming is programming in terms of classes and objects.\n",
        "A programming paradigm that organizes software design around \"objects,\" which are self-contained units that encapsulate data (attributes) and the actions that can be performed on that data (methods).\n",
        "\n",
        "Example:\n",
        "Imagine creating a \"Car\" class in OOP:\n",
        "Attributes: color, model, speed\n",
        "Methods: accelerate(), brake(), turn()"
      ],
      "metadata": {
        "id": "tK765YcjmD9I"
      }
    },
    {
      "cell_type": "markdown",
      "source": [
        "# Q2. What is a class in OOP?"
      ],
      "metadata": {
        "id": "AQecUWhVmZqG"
      }
    },
    {
      "cell_type": "markdown",
      "source": [
        "-> Class is a blueprint to create an object.\n",
        "A class is a template that defines the methods and variables for a specific type of object.\n",
        "\n",
        "Example- Car\n",
        "\n",
        "A class that can store information about different car models, such as their colors, and associate the appropriate information with each car"
      ],
      "metadata": {
        "id": "YM84pFgZmd1R"
      }
    },
    {
      "cell_type": "markdown",
      "source": [
        "# Q3. What is an object in OOP?"
      ],
      "metadata": {
        "id": "RGVMKsw3m29v"
      }
    },
    {
      "cell_type": "markdown",
      "source": [
        "-> An object is copy of class.\n",
        "\n",
        "In Object-Oriented Programming (OOP), an \"object\" is a fundamental building block that represents a real-world entity with specific properties (data) and behaviors (functions), essentially acting like a tangible thing with defined characteristics that can perform actions; for example, a \"car\" object would have properties like color, model, speed, and behaviors like accelerate, brake, and turn.\n"
      ],
      "metadata": {
        "id": "pBBzxauPm7KH"
      }
    },
    {
      "cell_type": "markdown",
      "source": [
        "# Q4. What is the difference between abstraction and encapsulation?"
      ],
      "metadata": {
        "id": "OiP3gUeTnOXn"
      }
    },
    {
      "cell_type": "markdown",
      "source": [
        "-> Abstraction is process of hiding unnecessary details and exposing required details. Abstraction is achieved through Abstract Method. Abstract class is initialized in which abstract methods are just declared and implemented by subclasses. Subclasses implement abstract class\n",
        "\n",
        " Encapsulation is process of hiding data. Restricts direct access to some components of an object. Encapsulation secures data and functions within a class, preventing unauthorized access and modification. Encapsulation can be implemented using access modifiers like private, protected, and public\n",
        "\n",
        " For example, a music streaming app's interface is simple and intuitive, while the complex code that streams songs, suggests music, and handles subscriptions is hidden. This balance between simplicity and complexity is achieved using abstraction and encapsulation"
      ],
      "metadata": {
        "id": "z5BngeHinSN4"
      }
    },
    {
      "cell_type": "markdown",
      "source": [
        "# Q5. What are dunder methods in Python?"
      ],
      "metadata": {
        "id": "QCSeVZ8UoXQw"
      }
    },
    {
      "cell_type": "markdown",
      "source": [
        "-> Dunder methods are special/magic methods associated with built-in classes.\n",
        "Dunder Methods are methods in Python that start and end with double underscores (__).\n",
        "\n",
        "Example- __init__, __str__, __repr__, __add__"
      ],
      "metadata": {
        "id": "DsVhBRg8oc94"
      }
    },
    {
      "cell_type": "markdown",
      "source": [
        "# Q6. Explain the concept of inheritance in OOP."
      ],
      "metadata": {
        "id": "ZuDfW8NIo2Ha"
      }
    },
    {
      "cell_type": "markdown",
      "source": [
        "Inheritance is the process of inheriting attributes and methods from one class to another class. Inheritance is a fundamental concept in object-oriented programming (OOP) that allows a class to inherit properties and behaviors from another class. This creates a hierarchical relationship between classes, where the class that inherits is called the subclass or child class, and the class it inherits from is called the superclass or parent class.  \n",
        "\n",
        "Some common types of inheritance include single, multiple, multilevel, hierarchical, and hybrid inheritance.\n",
        "\n",
        "Example- Animal is one class which has attributes such as two legs, two eyes, etc. and Human Beings inherit these attributes from Animal class."
      ],
      "metadata": {
        "id": "dEunJ5TAo6Rk"
      }
    },
    {
      "cell_type": "markdown",
      "source": [
        "# Q7. What is polymorphism in OOP?"
      ],
      "metadata": {
        "id": "RHFw8_Alpzm4"
      }
    },
    {
      "cell_type": "markdown",
      "source": [
        "-> Polymorphism consists of two words - Poly and morphism.\n",
        "Poly means Many and morphism means states/forms. In object-oriented-based Python programming, Polymorphism means the same function name is being used for different types. Each function is differentiated based on its data type and number of arguments. So, each function has a different signature.\n",
        "\n",
        "class Animal:\n",
        "    \n",
        "    def speak(self):\n",
        "        pass\n",
        "\n",
        "class Dog(Animal):\n",
        "    \n",
        "    def speak(self):\n",
        "        print(\"Woof!\")\n",
        "\n",
        "class Cat(Animal):\n",
        "    \n",
        "    def speak(self):\n",
        "        print(\"Meow!\")\n",
        "\n",
        "def make_animal_speak(animal):\n",
        "    \n",
        "    animal.speak()\n",
        "\n",
        "dog = Dog()\n",
        "\n",
        "cat = Cat()\n",
        "\n",
        "make_animal_speak(dog)\n",
        "\n",
        "make_animal_speak(cat)\n",
        "\n",
        "In this example, both Dog and Cat classes override the speak method inherited from the Animal class. This allows you to use the make_animal_speak function with objects of different types, and they will respond appropriately based on their own implementation of the speak method."
      ],
      "metadata": {
        "id": "C9Pl1B3ep5nO"
      }
    },
    {
      "cell_type": "markdown",
      "source": [
        "# Q8. How is encapsulation achieved in Python?"
      ],
      "metadata": {
        "id": "xb4moqAXqrre"
      }
    },
    {
      "cell_type": "markdown",
      "source": [
        "-> Encapsulation in Python is achieved through conventions and naming conventions rather than strict access modifiers like in other languages like Java or C++. Here's how it works:\n",
        "\n",
        "Access Modifiers:\n",
        "\n",
        "Public Members:\n",
        "By default, all members (attributes and methods) in a Python class are public. You can access them directly from outside the class using the dot operator.\n",
        "Private Members:\n",
        "To indicate that a member is intended to be private, prefix its name with a double underscore (__). This triggers name mangling, making it harder to access the member from outside the class.\n",
        "\n",
        "Protected Members:\n",
        "A single underscore (_) prefix indicates that a member is intended for internal use within the class and its subclasses. However, this is just a convention, and it doesn't prevent external access.\n",
        "\n",
        "Example-\n",
        "class BankAccount:\n",
        "    \n",
        "    def __init__(self, balance):\n",
        "        \n",
        "        self._balance = balance  # Protected attribute\n",
        "\n",
        "    def deposit(self, amount):\n",
        "        \n",
        "        self._balance += amount\n",
        "\n",
        "    def withdraw(self, amount):\n",
        "        if amount <= self._balance:\n",
        "            self._balance -= amount\n",
        "        else:\n",
        "            print(\"Insufficient funds\")\n",
        "\n",
        "    def get_balance(self):\n",
        "        return self._balance\n",
        "\n",
        "account = BankAccount(1000)\n",
        "\n",
        "account.deposit(500)\n",
        "\n",
        "account.withdraw(200)\n",
        "\n",
        "print(account.get_balance())\n",
        "\n",
        "print(account._balance)      "
      ],
      "metadata": {
        "id": "Q6GZK_M0rJqB"
      }
    },
    {
      "cell_type": "markdown",
      "source": [
        "# Q9. What is a constructor in Python?"
      ],
      "metadata": {
        "id": "wQHPCCrFrfPD"
      }
    },
    {
      "cell_type": "markdown",
      "source": [
        "In Python, a constructor is a special method that is used to initialize an object when it is created. This method is named __init__() and it is automatically called when you create a new instance of a class.\n",
        "\n",
        "class Person:\n",
        "    \n",
        "    def __init__(self, name, age):\n",
        "        \n",
        "        self.name = name\n",
        "        \n",
        "        self.age = age\n",
        "\n",
        "    def greet(self):\n",
        "        print(f\"Hello, my name is {self.name} and I am {self.age} years old.\")\n",
        "\n",
        "\n",
        "Creating an object of the Person class\n",
        "\n",
        "person1 = Person(\"Alice\", 25)\n",
        "\n",
        "person1.greet()"
      ],
      "metadata": {
        "id": "N60QcLtarkqM"
      }
    },
    {
      "cell_type": "markdown",
      "source": [
        "# Q10. What are class and static methods in Python?"
      ],
      "metadata": {
        "id": "FnJEMcqoryLg"
      }
    },
    {
      "cell_type": "markdown",
      "source": [
        "-> Class Method- Class Method is the method which are bound to the class. It's first argument is cls. Class Method is used for purpose to execute method directly by class without creating an instance of class. It is defined by @classmethod. Class Method is defined by @classmethod. Class method is used when we want to modify and access attributes of a class\n",
        "\n",
        "-> Static Method: Static Method is the method which behaves like a regular function. It does not need instance/object to access values. It does not change state/level of class. It directly called by Class. It does not take either self or cls. It is defined by @staticmethod. It is used when we do not want to interact with attributes of a class.\n",
        "\n",
        "\n",
        "class MyClass:\n",
        "    \n",
        "    class_variable = 10\n",
        "\n",
        "    @classmethod\n",
        "    def get_class_variable(cls):\n",
        "        return cls.class_variable\n",
        "\n",
        "    @classmethod\n",
        "    def set_class_variable(cls, value):\n",
        "        cls.class_variable = value\n",
        "\n",
        "print(MyClass.get_class_variable())\n",
        "\n",
        "MyClass.set_class_variable(20)\n",
        "\n",
        "print(MyClass.get_class_variable())\n",
        "\n"
      ],
      "metadata": {
        "id": "mRl5hqkVr57v"
      }
    },
    {
      "cell_type": "markdown",
      "source": [
        "# Q11. What is method overloading in Python?"
      ],
      "metadata": {
        "id": "4lXiBZ_qthJ7"
      }
    },
    {
      "cell_type": "markdown",
      "source": [
        "-> Method overloading is not supported by Python in true sense. It can only be implemented within a class through passing different arguments\n",
        "Python doesn't support multiple methods with the same name and different parameters in the same class. If you define two methods with the same name, the latter definition will overwrite the former.\n",
        "Instead, Python uses flexible argument handling to achieve similar results.\n",
        "\n",
        "Example-\n",
        "\n",
        "def greet(name=None):\n",
        "    \n",
        "    if name is None:\n",
        "        \n",
        "        print(\"Hello there!\")\n",
        "    \n",
        "    else:\n",
        "        \n",
        "        print(\"Hello,\", name)\n",
        "\n",
        "greet()\n",
        "\n",
        "greet(\"Alice\")"
      ],
      "metadata": {
        "id": "99NsN1J-tmUQ"
      }
    },
    {
      "cell_type": "markdown",
      "source": [
        "# Q12. What is method overriding in OOP?"
      ],
      "metadata": {
        "id": "PBiUX0XBvT9B"
      }
    },
    {
      "cell_type": "markdown",
      "source": [
        "-> Method Overriding is method with same name in parent class and in child class.\n",
        "\n",
        "Method overriding in Python is a feature that allows a subclass to provide a specific implementation of a method that is already defined in its superclass (parent class). This enables you to customize the behavior of a method inherited from the parent class to better suit the needs of the subclass.\n",
        "\n",
        "class Animal:\n",
        "    \n",
        "    def make_sound(self):\n",
        "        print(\"Generic animal sound\")\n",
        "\n",
        "class Dog(Animal):\n",
        "    \n",
        "    def make_sound(self):\n",
        "        print(\"Woof!\")\n",
        "\n",
        "class Cat(Animal):\n",
        "    \n",
        "    def make_sound(self):\n",
        "        print(\"Meow!\")\n",
        "\n",
        "animal = Animal()\n",
        "\n",
        "dog = Dog()\n",
        "\n",
        "cat = Cat()\n",
        "\n",
        "animal.make_sound()\n",
        "\n",
        "dog.make_sound()\n",
        "\n",
        "cat.make_sound()"
      ],
      "metadata": {
        "id": "x9L700anvZj6"
      }
    },
    {
      "cell_type": "markdown",
      "source": [
        "# Q13. What is a property decorator in Python?"
      ],
      "metadata": {
        "id": "QN7puuSDv6jc"
      }
    },
    {
      "cell_type": "markdown",
      "source": [
        "-> Property decorator allows to make method as an attribute. It is defined by @property\n",
        "\n",
        "Example-\n",
        "\n",
        "class Temperature:\n",
        "    \n",
        "    def __init__(self, celsius):\n",
        "        self._celsius = celsius\n",
        "\n",
        "    @property\n",
        "    def celsius(self):\n",
        "        return self._celsius\n",
        "\n",
        "    @celsius.setter\n",
        "    def celsius(self, value):\n",
        "        if value < -273.15:\n",
        "            raise ValueError(\"Temperature below -273.15 is not possible\")\n",
        "        self._celsius = value\n",
        "\n",
        "    @property\n",
        "    def fahrenheit(self):\n",
        "        return self._celsius * 9/5 + 32"
      ],
      "metadata": {
        "id": "hLSXuY8Uv-dc"
      }
    },
    {
      "cell_type": "markdown",
      "source": [
        "# Q14. Why is polymorphism important in OOP?"
      ],
      "metadata": {
        "id": "5LMHGjqGweu4"
      }
    },
    {
      "cell_type": "markdown",
      "source": [
        "-> Polymorphism is an important feature of object-oriented programming (OOP) because it allows for code reusability, flexibility, and extensibility.\n",
        "\n",
        "1. Reusability- Polymorphism allows programmers to reuse code, which saves time and speeds up development.\n",
        "\n",
        "2. Flexibility: Polymorphism allows programmers to perform a single action in multiple ways, and to define multiple forms of a single object, variable, or method.\n",
        "\n",
        "3.Extensibility: Polymorphism allows developers to create new classes derived from existing classes, without modifying the existing code.\n",
        "\n",
        "Polymorphism is important because same method can take multiple type of arguments on the basis of which code becomes organized and just by defining arguments that type of method would invoke, thereby, saves time and objects get re-defined"
      ],
      "metadata": {
        "id": "LeW5H5TJwjDQ"
      }
    },
    {
      "cell_type": "markdown",
      "source": [
        "# Q15. What is an abstract class in Python?\n"
      ],
      "metadata": {
        "id": "byweccQQwKM2"
      }
    },
    {
      "cell_type": "markdown",
      "source": [
        "-> In Python, an abstract class is a class that cannot be instantiated on its own and is designed to be a blueprint for other classes. It serves as a base class for derived classes, providing a common interface and structure that they must adhere to.\n",
        "\n",
        "from abc import ABC, abstractmethod\n",
        "\n",
        "class Shape(ABC):\n",
        "    \n",
        "    @abstractmethod\n",
        "    def area(self):\n",
        "        pass\n",
        "\n",
        "class Square(Shape):\n",
        "    \n",
        "    def __init__(self, side):\n",
        "        self.side = side\n",
        "\n",
        "    def area(self):\n",
        "        return self.side ** 2\n",
        "\n",
        "class Circle(Shape):\n",
        "    \n",
        "    def __init__(self, radius):\n",
        "        self.radius = radius\n",
        "\n",
        "    def area(self):\n",
        "        return math.pi * self.radius ** 2\n",
        "\n",
        "\n",
        "This will raise an error because Shape is an abstract class\n",
        "\n",
        "\n",
        "\n",
        "\n",
        "\n",
        "shape = Shape()\n",
        "\n",
        "square = Square(5)\n",
        "\n",
        "print(square.area())  # Output: 25\n",
        "\n",
        "circle = Circle(3)\n",
        "\n",
        "print(circle.area())  # Output: 28.274333882308138"
      ],
      "metadata": {
        "id": "adcRqvQp25UV"
      }
    },
    {
      "cell_type": "markdown",
      "source": [],
      "metadata": {
        "id": "89O7zzCcmnTS"
      }
    },
    {
      "cell_type": "markdown",
      "source": [
        "# Q16. What are the advantages of OOP?"
      ],
      "metadata": {
        "id": "OTgcxYdn3KAU"
      }
    },
    {
      "cell_type": "markdown",
      "source": [
        "Modularity\n",
        "\n",
        "OOP allows developers to divide complex systems into smaller, more manageable objects. This makes troubleshooting and collaboration easier.\n",
        "\n",
        "Reusability\n",
        "\n",
        "OOP allows developers to reuse code through inheritance, which saves time and effort.\n",
        "\n",
        "Flexibility\n",
        "\n",
        "OOP's polymorphism feature allows a single function to adapt to the class it's in.\n",
        "\n",
        "Security\n",
        "\n",
        "OOP's encapsulation feature bundles data inside objects, making the code more secure.\n",
        "\n",
        "Scalability\n",
        "\n",
        "OOP's support for inheritance and polymorphism makes it easier to scale and extend software systems.\n"
      ],
      "metadata": {
        "id": "EWP_NEml3Sg6"
      }
    },
    {
      "cell_type": "markdown",
      "source": [
        "# Q17. What is the difference between a class variable and an instance variable?"
      ],
      "metadata": {
        "id": "tBaz4mWi3dMz"
      }
    },
    {
      "cell_type": "markdown",
      "source": [
        "-> In Python, class variables and instance variables are both used to store data within a class, but they have key differences:\n",
        "\n",
        "Class Variables:\n",
        "\n",
        "Scope: Shared among all instances of a class.\n",
        "\n",
        "Definition: Declared directly within the class, outside of any methods.\n",
        "\n",
        "Access: Accessed using the class name or any instance of the class.\n",
        "\n",
        "Purpose: Store data that is common to all instances of a class, such as constants or counters.\n",
        "\n",
        "Instance Variables:\n",
        "\n",
        "Scope: Unique to each instance of a class.\n",
        "\n",
        "Definition: Declared within a class's methods, typically within the __init__ method.\n",
        "\n",
        "Access: Accessed using the self keyword within a class's methods.\n",
        "\n",
        "Purpose: Store data specific to each instance, such as attributes that define the object's state."
      ],
      "metadata": {
        "id": "XHfJBM_C3g0B"
      }
    },
    {
      "cell_type": "markdown",
      "source": [
        "# Q18. What is multiple inheritance in Python?"
      ],
      "metadata": {
        "id": "aEOLUq1b333Q"
      }
    },
    {
      "cell_type": "markdown",
      "source": [
        "-> In Python, multiple inheritance is a feature that allows a class to inherit from more than one base class. This means that a child class can inherit attributes and methods from multiple parent classes.\n",
        "\n",
        "Example- class Mammal:\n",
        "    \n",
        "    def breathe(self):\n",
        "        print(\"Breathing\")\n",
        "\n",
        "class WingedAnimal:\n",
        "    \n",
        "    def fly(self):\n",
        "        print(\"Flying\")\n",
        "\n",
        "class Bat(Mammal, WingedAnimal):\n",
        "    \n",
        "    def squeak(self):\n",
        "        print(\"Squeaking\")\n",
        "\n",
        "my_bat = Bat()\n",
        "\n",
        "my_bat.breathe()\n",
        "\n",
        "my_bat.fly()\n",
        "\n",
        "my_bat.squeak()"
      ],
      "metadata": {
        "id": "bzKPuCeh38-2"
      }
    },
    {
      "cell_type": "markdown",
      "source": [
        "#Q19. Explain the purpose of ‘’__str__’ and ‘__repr__’ ‘ methods in Python?"
      ],
      "metadata": {
        "id": "Vuqa2lRb4HS0"
      }
    },
    {
      "cell_type": "markdown",
      "source": [
        "-> In Python, __str__ and __repr__ are special methods used to define string representations of objects. Here's an explanation of their purposestr__:\n",
        "\n",
        "Purpose: Provides a human-readable string representation of an object.\n",
        "\n",
        "Intended Audience: End-users.\n",
        "\n",
        "Usage: Called by the str() function and the print() function to display the object.\n",
        "\n",
        "Example-\n",
        "__repr__:class abc:\n",
        "              \n",
        "              def __init__(self, name):\n",
        "                    \n",
        "                    self.name=name\n",
        "              \n",
        "              def __str__(self):\n",
        "                  \n",
        "                  return \"Course is DS\"\n",
        "\n",
        "Purpose: Provides an unambiguous string representation of an object, ideally one that can be used to recreate the object.\n",
        "\n",
        "Intended Audience: Developers.\n",
        "\n",
        "Usage: Called by the repr() function and when you display an object directly in the Python interpreter.\n",
        "\n",
        "Example-\n",
        "\n",
        "class Student:\n",
        "                \n",
        "                def __init__(self, name)\n",
        "                    \n",
        "                    self.name=name\n",
        "                \n",
        "                def __str__(self):\n",
        "                    \n",
        "                    return f\"Name is {self.name} and Course is DS\"\n"
      ],
      "metadata": {
        "id": "Gp2dMKSF4Mlf"
      }
    },
    {
      "cell_type": "markdown",
      "source": [
        "# 20. What is the significance of the ‘super()’ function in Python?"
      ],
      "metadata": {
        "id": "jpj4qS7l5Zm3"
      }
    },
    {
      "cell_type": "markdown",
      "source": [
        "-> Super() inherits all init attributes and methods from base class to derived class. In Python, the super() function is used to access methods and properties of a parent class from within a child class. This is particularly useful when working with inheritance.\n",
        "\n",
        "Example- class Animal:\n",
        "            \n",
        "            def __init__(self, name):\n",
        "            self.name = name\n",
        "\n",
        "    def speak(self):\n",
        "        print(\"Animal speaks\")\n",
        "\n",
        "class Dog(Animal):\n",
        "    \n",
        "    def __init__(self, name, breed):\n",
        "        super().__init__(name)\n",
        "        self.breed = breed\n",
        "\n",
        "    def speak(self):\n",
        "        super().speak()  # Call the parent class speak method\n",
        "        print(\"Dog barks\")\n",
        "\n",
        "my_dog = Dog(\"Buddy\", \"Golden Retriever\")\n",
        "\n",
        "my_dog.speak()"
      ],
      "metadata": {
        "id": "0d-d2zpW5eW-"
      }
    },
    {
      "cell_type": "markdown",
      "source": [
        "# Q21. What is the significance of the __del__ method in Python?"
      ],
      "metadata": {
        "id": "EBTI2PCG6Isg"
      }
    },
    {
      "cell_type": "markdown",
      "source": [
        "-> In Python, the __del__() method is a special method known as a destructor. It's called when an object is about to be destroyed, typically by the garbage collector.\n",
        "\n",
        "Significance:\n",
        "\n",
        "Cleanup:\n",
        "\n",
        "It allows you to perform necessary cleanup operations before an object is removed from memory. This can include closing files, releasing resources, or disconnecting from databases.\n",
        "\n",
        "Resource Management:\n",
        "\n",
        "It helps ensure that resources are properly released when they are no longer needed, preventing memory leaks and other issues.\n",
        "\n",
        "Custom Behavior:\n",
        "\n",
        "You can define custom behavior to be executed when an object is deleted, providing greater control over the object lifecycle."
      ],
      "metadata": {
        "id": "W7qpSLD56NiU"
      }
    },
    {
      "cell_type": "markdown",
      "source": [
        "# Q22. What is the difference between @staticmethod and @classmethod in Python?"
      ],
      "metadata": {
        "id": "uaBO8NCM6ZLj"
      }
    },
    {
      "cell_type": "markdown",
      "source": [
        "-> In Python, both @staticmethod and @classmethod are decorators used to define methods that are associated with a class, but they have different behaviors and use cases:\n",
        "\n",
        "@staticmethod\n",
        "\n",
        "Purpose: Static methods are utility methods that don't need access to the class or instance-specific data. They behave like regular functions but are placed within a class for organizational purposes.\n",
        "\n",
        "Parameters: Static methods don't take any special parameters like self or cls.\n",
        "\n",
        "Access: They can't access or modify class or instance attributes directly.\n",
        "\n",
        "@classmethod\n",
        "Purpose:\n",
        "\n",
        "Class methods are methods that operate on the class itself, rather than on specific instances. They have access to the class and can modify its attributes.\n",
        "\n",
        "Parameters:\n",
        "\n",
        "Class methods take the class as the first parameter, conventionally named cls.\n",
        "Access:\n",
        "\n",
        "They can access and modify class attributes but not instance-specific attributes."
      ],
      "metadata": {
        "id": "R3306xdV6eST"
      }
    },
    {
      "cell_type": "markdown",
      "source": [
        "# Q23. How does polymorphism work in Python with inheritance?"
      ],
      "metadata": {
        "id": "rA2NclU86wty"
      }
    },
    {
      "cell_type": "markdown",
      "source": [
        "-> Polymorphism in Python with inheritance works through a concept called method overriding.\n",
        "Here's how it works:\n",
        "\n",
        "1. Inheritance: A child class inherits methods and attributes from its parent class. This means the child class can use the methods and attributes defined in the parent class without having to redefine them.\n",
        "\n",
        "2. Method Overriding: The child class can provide its own implementation of a method that is already defined in the parent class. This is called method overriding.\n",
        "\n",
        "Example-\n",
        "class Animal:\n",
        "    \n",
        "    def speak(self):\n",
        "        \n",
        "        print(\"Animal speaks\")\n",
        "\n",
        "class Dog(Animal):\n",
        "    \n",
        "    def speak(self):\n",
        "        \n",
        "        print(\"Woof!\")\n",
        "\n",
        "class Cat(Animal):\n",
        "    \n",
        "    def speak(self):\n",
        "        \n",
        "        print(\"Meow!\")\n",
        "\n",
        "animal = Animal()\n",
        "\n",
        "dog = Dog()\n",
        "\n",
        "cat = Cat()\n",
        "\n",
        "for obj in [animal, dog, cat]:\n",
        "    \n",
        "    obj.speak()"
      ],
      "metadata": {
        "id": "xFhoXqcs60tB"
      }
    },
    {
      "cell_type": "markdown",
      "source": [
        "# Q24. What is method chaining in Python OOP?"
      ],
      "metadata": {
        "id": "yZJS7xZE7UYi"
      }
    },
    {
      "cell_type": "markdown",
      "source": [
        "-> Method chaining in Python OOP allows you to call multiple methods on an object in a single line of code. It's a way to write more concise and readable code. Method chaining is the calling of method and then again calling of another method and again calling another method by the object which may or may return value to object  \n",
        "\n",
        "How it works:\n",
        "\n",
        "Return self:\n",
        "\n",
        "Each method in the chain needs to return the object itself (self). This allows the next method in the chain to be called on that object.\n",
        "\n",
        "Example-\n",
        "\n",
        "class Person:\n",
        "    \n",
        "    def __init__(self, name):\n",
        "        self.name = name\n",
        "\n",
        "    def set_age(self, age):\n",
        "        self.age = age\n",
        "        return self\n",
        "\n",
        "    def set_city(self, city):\n",
        "        self.city = city\n",
        "        return self\n",
        "\n",
        "    def display_info(self):\n",
        "        print(f\"Name: {self.name}, Age: {self.age}, City: {self.city}\")\n",
        "\n",
        "person = Person(\"Alice\").set_age(30).set_city(\"New York\").display_info()"
      ],
      "metadata": {
        "id": "t_JMYfll7Yz6"
      }
    },
    {
      "cell_type": "markdown",
      "source": [
        "# Q25. What is the purpose of the __call__ method in Python?"
      ],
      "metadata": {
        "id": "HmbqqdGP8YBg"
      }
    },
    {
      "cell_type": "markdown",
      "source": [
        "-> __call__method is used for the purpose to automatically invoked when object gets created along with __init__method.\n",
        "\n",
        "Example-\n",
        "\n",
        "class Adder:\n",
        "    \n",
        "    def __init__(self, value):\n",
        "        self.value = value\n",
        "\n",
        "    def __call__(self, other):\n",
        "        return self.value + other\n",
        "\n",
        "adder = Adder(10)\n",
        "\n",
        "result = adder(5)  # Calls the __call__ method, result will be 15\n",
        "\n",
        "print(result)"
      ],
      "metadata": {
        "id": "9-Ah2kFP8ejh"
      }
    },
    {
      "cell_type": "markdown",
      "source": [
        "# Practical Questions\n"
      ],
      "metadata": {
        "id": "p926khs1Vspx"
      }
    },
    {
      "cell_type": "markdown",
      "source": [
        "# Q1. Create a parent class Animal with a method speak() that prints a generic message. Create a child class Dog that overrides the speak() method to print \"Bark!\"."
      ],
      "metadata": {
        "id": "5srDhT4yVwZ4"
      }
    },
    {
      "cell_type": "code",
      "source": [
        "\"\"\"\n",
        "class Animal:\n",
        "  def speak(self):\n",
        "    print(\"This method is of Animal class\")\n",
        "class Dog(Animal):\n",
        "  def speak(self):\n",
        "      print(\"Bark!\")\n",
        "d=Dog()\n",
        "d.speak()\n",
        "\"\"\""
      ],
      "metadata": {
        "colab": {
          "base_uri": "https://localhost:8080/",
          "height": 53
        },
        "id": "4-7ug538V2gx",
        "outputId": "8d54496a-4f34-439d-8b28-46de20d9d55b"
      },
      "execution_count": null,
      "outputs": [
        {
          "output_type": "execute_result",
          "data": {
            "text/plain": [
              "'\\nclass Animal:\\n  def speak(self):\\n    print(\"This method is of Animal class\")\\nclass Dog(Animal):\\n  def speak(self):\\n      print(\"Bark!\")\\nd=Dog()\\nd.speak()\\n'"
            ],
            "application/vnd.google.colaboratory.intrinsic+json": {
              "type": "string"
            }
          },
          "metadata": {},
          "execution_count": 4
        }
      ]
    },
    {
      "cell_type": "markdown",
      "source": [
        "# Q2. Write a program to create an abstract class Shape with a method area(). Derive classes Circle and Rectangle from it and implement the area() method in both."
      ],
      "metadata": {
        "id": "ATdu37CvWsMt"
      }
    },
    {
      "cell_type": "code",
      "source": [
        "\"\"\"\n",
        "import abc\n",
        "from abc import abstractmethod\n",
        "class Shape:\n",
        "  @abstractmethod\n",
        "  def area(self):\n",
        "        pass\n",
        "class Circle(Shape):\n",
        "      def area(self, r):\n",
        "          self.r=r\n",
        "          return 3.14*self.r*self.r\n",
        "class Rectangle(Shape):\n",
        "      def area(self, l, b):\n",
        "              self.l=l\n",
        "              self.b=b\n",
        "              return self.l*self.b\n",
        "C=Circle()\n",
        "C.area(10)\n",
        "\n",
        "R=Rectangle()\n",
        "R.area(5,6)\n",
        "\n",
        "\"\"\""
      ],
      "metadata": {
        "colab": {
          "base_uri": "https://localhost:8080/"
        },
        "id": "xyOAGoyCWxvl",
        "outputId": "7bf9ea0b-40ff-4200-c41b-e3f9c6da6c41"
      },
      "execution_count": null,
      "outputs": [
        {
          "output_type": "execute_result",
          "data": {
            "text/plain": [
              "30"
            ]
          },
          "metadata": {},
          "execution_count": 32
        }
      ]
    },
    {
      "cell_type": "markdown",
      "source": [
        "# Q3. Implement a multi-level inheritance scenario where a class Vehicle has an attribute type. Derive a class Car and further derive a class ElectricCar that adds a battery attribute."
      ],
      "metadata": {
        "id": "e_osMO9BaZuz"
      }
    },
    {
      "cell_type": "code",
      "source": [
        "\"\"\"\n",
        "class Vehicle:\n",
        "  e=\"Engine\"\n",
        "class Car(Vehicle):\n",
        "  b=\"Battery\"\n",
        "class ElectricCar(Car):\n",
        "    p=\"power\"\n",
        "E=ElectricCar()\n",
        "E.b\n",
        "\"\"\""
      ],
      "metadata": {
        "id": "DEcIpkttae21"
      },
      "execution_count": null,
      "outputs": []
    },
    {
      "cell_type": "markdown",
      "source": [
        "# Q4.  Implement a multi-level inheritance scenario where a class Vehicle has an attribute type. Derive a class Car and further derive a class ElectricCar that adds a battery attribute."
      ],
      "metadata": {
        "id": "_coJIAD1b43Y"
      }
    },
    {
      "cell_type": "code",
      "source": [
        "\"\"\"\n",
        "class Vehicle:\n",
        "  e=\"Engine\"\n",
        "class Car(Vehicle):\n",
        "  b=\"Battery\"\n",
        "class ElectricCar(Car):\n",
        "    p=\"power\"\n",
        "E=ElectricCar()\n",
        "E.b\n",
        "\"\"\""
      ],
      "metadata": {
        "id": "lGQkBS4Zb4iO"
      },
      "execution_count": null,
      "outputs": []
    },
    {
      "cell_type": "markdown",
      "source": [
        "# Q5. Write a program to demonstrate encapsulation by creating a class BankAccount with private attributes balance and methods to deposit, withdraw, and check balance"
      ],
      "metadata": {
        "id": "Yc7cVNzOcEtV"
      }
    },
    {
      "cell_type": "code",
      "source": [
        "\"\"\"\n",
        "  class BankAccount:\n",
        "  def __init__(self, balance):\n",
        "      self.__balance=balance\n",
        "  def deposit(self, amount):\n",
        "      self.amount=amount\n",
        "      self.__balance=self.__balance+self.amount\n",
        "  def withdraw(self, amount):\n",
        "        self.amount=amount\n",
        "        if self.__balance<=0:\n",
        "            print(\"Insufficient Funds\")\n",
        "        else:\n",
        "            self.__balance=self.__balance-self.amount\n",
        "  def checkbalance(self):\n",
        "      return self.__balance\n",
        "\n",
        "b=BankAccount(4000)\n",
        "b.deposit(4000)\n",
        "b.checkbalance()\n",
        "b.withdraw(2000)\n",
        "\n",
        "b.checkbalance()\n",
        "\n",
        "\"\"\"\n"
      ],
      "metadata": {
        "id": "6oZIgLGqcJgO"
      },
      "execution_count": null,
      "outputs": []
    },
    {
      "cell_type": "markdown",
      "source": [
        "# Q6.  Demonstrate runtime polymorphism using a method play() in a base class Instrument. Derive classes Guitar and Piano that implement their own version of play()."
      ],
      "metadata": {
        "id": "fq3KIr0SezWX"
      }
    },
    {
      "cell_type": "code",
      "source": [
        "\"\"\"\n",
        " class Instrument:\n",
        "      def play(self):\n",
        "          print(\"Instrument is playing\")\n",
        "class Guitar(Instrument):\n",
        "      def play(self):\n",
        "        print(\"Guitar is playing\")\n",
        "class Piano(Instrument):\n",
        "      def play(self):\n",
        "        print(\"Piano is playing\")\n",
        "\n",
        "P=Piano()\n",
        "P.play()\n",
        "G=Guitar()\n",
        "G.play()\n",
        "\n",
        "\"\"\"     #Method Overriding"
      ],
      "metadata": {
        "id": "TAdcPkjle3-S"
      },
      "execution_count": null,
      "outputs": []
    },
    {
      "cell_type": "markdown",
      "source": [
        "# Q7. Create a class MathOperations with a class method add_numbers() to add two numbers and a static method subtract_numbers() to subtract two numbers."
      ],
      "metadata": {
        "id": "qTH5qntdgNGo"
      }
    },
    {
      "cell_type": "code",
      "source": [
        "\"\"\"\n",
        "class MathOperations:\n",
        "      @classmethod\n",
        "      def add_numbers(cls, x, y):\n",
        "          cls.x=x\n",
        "          cls.y=y\n",
        "          return x+y\n",
        "      @staticmethod\n",
        "      def sub(a,b):\n",
        "        return a-b\n",
        "MathOperations.add_numbers(4,5)\n",
        "MathOperations.sub(13,6)\n",
        "\n",
        "\"\"\""
      ],
      "metadata": {
        "id": "IhAWE3UUgTV4"
      },
      "execution_count": null,
      "outputs": []
    },
    {
      "cell_type": "markdown",
      "source": [
        "# Q8.  Implement a class Person with a class method to count the total number of persons created"
      ],
      "metadata": {
        "id": "JSetERQwhVtD"
      }
    },
    {
      "cell_type": "code",
      "source": [
        "\"\"\"\n",
        "    class Person:\n",
        "    total_persons=0\n",
        "    @classmethod\n",
        "    def __init__(cls):\n",
        "        cls.total_persons=cls.total_persons+1\n",
        "    def count(self):\n",
        "      return self.total_persons\n",
        "\n",
        "P1=Person()\n",
        "P2=Person()\n",
        "P3=Person()\n",
        "P4=Person()\n",
        "P5=Person()\n",
        "\n",
        "\"\"\""
      ],
      "metadata": {
        "id": "3N6nSOEahgAA"
      },
      "execution_count": null,
      "outputs": []
    },
    {
      "cell_type": "markdown",
      "source": [
        "# Q9. Write a class Fraction with attributes numerator and denominator. Override the str method to display the fraction as \"numerator/denominator\"."
      ],
      "metadata": {
        "id": "7RuKBx-xjTt2"
      }
    },
    {
      "cell_type": "code",
      "source": [
        "\"\"\"\n",
        "  class Fraction:\n",
        "  def __init__(self, num, den):\n",
        "      self.num=num\n",
        "      self.den=den\n",
        "  def __str__(self):\n",
        "      return f\"{self.num}/{self.den}\"\n",
        "F=Fraction(4,5)\n",
        "str(F)\n",
        "\n",
        "\"\"\""
      ],
      "metadata": {
        "id": "VDB0_F_IjfH7"
      },
      "execution_count": null,
      "outputs": []
    },
    {
      "cell_type": "code",
      "source": [
        "F=Fraction(4,5)\n",
        "str(F)"
      ],
      "metadata": {
        "colab": {
          "base_uri": "https://localhost:8080/",
          "height": 35
        },
        "id": "RmPl8_NrkK4y",
        "outputId": "ab05c01a-ea14-48db-b095-1453c8fce8d3"
      },
      "execution_count": null,
      "outputs": [
        {
          "output_type": "execute_result",
          "data": {
            "text/plain": [
              "'4/5'"
            ],
            "application/vnd.google.colaboratory.intrinsic+json": {
              "type": "string"
            }
          },
          "metadata": {},
          "execution_count": 102
        }
      ]
    },
    {
      "cell_type": "markdown",
      "source": [
        "# Q10.  Demonstrate operator overloading by creating a class Vector and overriding the add method to add two vectors."
      ],
      "metadata": {
        "id": "Awe6Baarjdpq"
      }
    },
    {
      "cell_type": "code",
      "source": [
        "\"\"\n",
        "  class Vector:\n",
        "  def __init__(self, x, y):\n",
        "     self.x=x\n",
        "     self.y=y\n",
        "  def __add__(self, other):\n",
        "     return (self.x+other.x , self.y+other.y)\n",
        "\n",
        "Vector1=Vector(2,3)\n",
        "Vector2=Vector(4,6)\n",
        "\n",
        "Vect\n",
        "\n",
        "\"\"\""
      ],
      "metadata": {
        "id": "u6GFmGASlN-n"
      },
      "execution_count": null,
      "outputs": []
    },
    {
      "cell_type": "markdown",
      "source": [
        "# Q11. Create a class Person with attributes name and age. Add a method greet() that prints \"Hello, my name is {name} and I am {age} years old.\""
      ],
      "metadata": {
        "id": "HqaOBisPoYCg"
      }
    },
    {
      "cell_type": "code",
      "source": [
        "\"\"\"\n",
        "  class Person:\n",
        "  def __init__(self, name, age):\n",
        "    self.name=name\n",
        "    self.age=age\n",
        "  def greet(self):\n",
        "     return f\"Hello, my name is {self.name} and I am {self.age} years old\"\n",
        "\n",
        "P=Person(\"Sumit\", 28)\n",
        "P.greet()\n",
        "\n",
        "\"\"\""
      ],
      "metadata": {
        "id": "hB1GNahtoe1j"
      },
      "execution_count": null,
      "outputs": []
    },
    {
      "cell_type": "markdown",
      "source": [
        "# Q12.  Implement a class Student with attributes name and grades. Create a method average_grade() to compute the average of the grades."
      ],
      "metadata": {
        "id": "XrlfOH3apTW_"
      }
    },
    {
      "cell_type": "code",
      "source": [
        "\"\"\"\n",
        "  class Student:\n",
        "  def __init__(self, name, Mark_1, Mark_2, Mark_3, Mark_4, Mark_5):\n",
        "      self.name=name\n",
        "      self.Mark_1=Mark_1\n",
        "      self.Mark_2=Mark_2\n",
        "      self.Mark_3=Mark_3\n",
        "      self.Mark_4=Mark_4\n",
        "      self.Mark_5=Mark_5\n",
        "  def average_grade(self):\n",
        "      avg=(self.Mark_1+self.Mark_2+self.Mark_3+self.Mark_4+self.Mark_5)/5\n",
        "      return avg\n",
        "\n",
        "s=Student(\"Sohan\", 40, 67, 55, 45, 34)\n",
        "s.average_grade()\n",
        "\n",
        "\"\"\""
      ],
      "metadata": {
        "id": "fRRk4e3bpaWo"
      },
      "execution_count": null,
      "outputs": []
    },
    {
      "cell_type": "markdown",
      "source": [
        "# Q13. Create a class Rectangle with methods set_dimensions() to set the dimensions and area() to calculate the area."
      ],
      "metadata": {
        "id": "-LzCgLmwr6ox"
      }
    },
    {
      "cell_type": "code",
      "source": [
        "\"\"\"\n",
        "  class Rectangle:\n",
        "  def set_dimensions(self, l, b):\n",
        "      self.l=l\n",
        "      self.b=b\n",
        "  def area(self):\n",
        "      return self.l*self.b\n",
        "R=Rectangle()\n",
        "R.set_dimensions(4,5)\n",
        "R.area()\n",
        "\n",
        "\"\"\""
      ],
      "metadata": {
        "colab": {
          "base_uri": "https://localhost:8080/"
        },
        "id": "kh3D7u4HsCXO",
        "outputId": "ea2c897a-d31f-40e2-e41e-1fbc20ba9846"
      },
      "execution_count": null,
      "outputs": [
        {
          "output_type": "execute_result",
          "data": {
            "text/plain": [
              "20"
            ]
          },
          "metadata": {},
          "execution_count": 140
        }
      ]
    },
    {
      "cell_type": "markdown",
      "source": [
        "# Q14. Create a class Employee with a method calculate_salary() that computes the salary based on hours worked and hourly rate. Create a derived class Manager that adds a bonus to the salary."
      ],
      "metadata": {
        "id": "o6PSEIJds3PQ"
      }
    },
    {
      "cell_type": "code",
      "source": [
        "\"\"\"\n",
        "class Employee:\n",
        "    def __init__(self, name, hours_worked, hourly_rate):\n",
        "        self.name = name\n",
        "        self.hours_worked = hours_worked\n",
        "        self.hourly_rate = hourly_rate\n",
        "\n",
        "    def calculate_salary(self):\n",
        "        return self.hours_worked * self.hourly_rate\n",
        "\n",
        "class Manager(Employee):\n",
        "    def __init__(self, name, hours_worked, hourly_rate, bonus):\n",
        "        super().__init__(name, hours_worked, hourly_rate)\n",
        "        self.bonus = bonus\n",
        "\n",
        "    def calculate_salary(self):\n",
        "        return super().calculate_salary() + self.bonus\n",
        "\n",
        "\"\"\""
      ],
      "metadata": {
        "id": "zqcJSxKRqrsz"
      },
      "execution_count": null,
      "outputs": []
    },
    {
      "cell_type": "markdown",
      "source": [
        "# Q15.  Create a class Product with attributes name, price, and quantity. Implement a method total_price() that calculates the total price of the product"
      ],
      "metadata": {
        "id": "Z6aAqbzY59Ka"
      }
    },
    {
      "cell_type": "code",
      "source": [
        "\"\"\"\n",
        "  class Product:\n",
        "  def __init__(self, name, price, quantity):\n",
        "    self.name=name\n",
        "    self.price=price\n",
        "    self.quantity=quantity\n",
        "  def total_price(self):\n",
        "    total_price=self.price*self.quantity\n",
        "    return total_price\n",
        "\n",
        "P=Product(\"Rice\", 40, 10)\n",
        "P.total_price()\n",
        "\"\"\""
      ],
      "metadata": {
        "id": "2oKLzGDR6Hv-"
      },
      "execution_count": null,
      "outputs": []
    },
    {
      "cell_type": "markdown",
      "source": [
        "# Q16. Create a class Animal with an abstract method sound(). Create two derived classes Cow and Sheep that implement the sound() method."
      ],
      "metadata": {
        "id": "L_tmz9DW68Y7"
      }
    },
    {
      "cell_type": "code",
      "source": [
        "\"\"\"\n",
        "import abc\n",
        "from abc import abstractmethod\n",
        "class Animal:\n",
        "    @abstractmethod\n",
        "    def sound(self):\n",
        "      pass\n",
        "class Cow(Animal):\n",
        "    def sound(self):\n",
        "      print(\"moo....\")\n",
        "class Sheep(Animal):\n",
        "   def sound(self):\n",
        "      print(\"baa...\")\n",
        "C=Cow()\n",
        "C.sound()\n",
        "\n",
        "\"\"\""
      ],
      "metadata": {
        "id": "tX1GAi9L6tUU"
      },
      "execution_count": null,
      "outputs": []
    },
    {
      "cell_type": "markdown",
      "source": [
        "# Q17. Create a class Book with attributes title, author, and year_published. Add a method get_book_info() that returns a formatted string with the book's details."
      ],
      "metadata": {
        "id": "3GMa4-_Q8IN6"
      }
    },
    {
      "cell_type": "code",
      "source": [
        "\"\"\"\n",
        "  class Book:\n",
        "  def __init__(self, title, author, year_published):\n",
        "        self.title=title\n",
        "        self.author=author\n",
        "        self.year_published=year_published\n",
        "  def get_book_info(self):\n",
        "        return f\"The Title of Book is {self.title}, Author is {self.author} and year of publishing is {self.year_published}\"\n",
        "\n",
        "b=Book(\"Programming in C++\", \"Herbert Shildt\", 2000)\n",
        "b.get_book_info()\n",
        "\n",
        "\"\"\""
      ],
      "metadata": {
        "id": "G_Nmn8eZ8NnC"
      },
      "execution_count": null,
      "outputs": []
    },
    {
      "cell_type": "markdown",
      "source": [
        "# Q18. Create a class House with attributes address and price. Create a derived class Mansion that adds an attribute number_of_rooms."
      ],
      "metadata": {
        "id": "7ob6ACK-9OHd"
      }
    },
    {
      "cell_type": "code",
      "source": [
        "\"\"\"\n",
        "  class House:\n",
        "  def __init__(self, address, price):\n",
        "     self.address=address\n",
        "     self.price=price\n",
        "class Mansion(House):\n",
        "    def __init__(self, address, price, number_of_rooms):\n",
        "        super().__init__(address, price)\n",
        "        self.number_of_rooms=number_of_rooms\n",
        "\n",
        "M=Mansion(\"131 Street Boston USA\", \"$1200\", \"5\")\n",
        "M.address\n",
        "M.price\n",
        "M.number_of_rooms\n",
        "\n",
        "\"\"\""
      ],
      "metadata": {
        "id": "P9838IvG9TrS"
      },
      "execution_count": null,
      "outputs": []
    }
  ]
}